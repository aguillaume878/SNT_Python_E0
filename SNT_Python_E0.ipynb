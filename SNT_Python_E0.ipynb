{
 "cells": [
  {
   "cell_type": "markdown",
   "metadata": {},
   "source": [
    "# Chapitre 1"
   ]
  },
  {
   "cell_type": "markdown",
   "metadata": {},
   "source": [
    "## Exercice 1"
   ]
  },
  {
   "cell_type": "markdown",
   "metadata": {},
   "source": [
    "Ecrivez un programme qui affiche exactement le texte qui suit : "
   ]
  },
  {
   "cell_type": "raw",
   "metadata": {},
   "source": [
    "Ceci est le premier exercice de ce test !"
   ]
  },
  {
   "cell_type": "code",
   "execution_count": null,
   "metadata": {
    "collapsed": true
   },
   "outputs": [],
   "source": []
  },
  {
   "cell_type": "markdown",
   "metadata": {},
   "source": [
    "## Exercice 2"
   ]
  },
  {
   "cell_type": "markdown",
   "metadata": {},
   "source": [
    "Ecrivez un programme qui affiche exactement le texte qui suit : "
   ]
  },
  {
   "cell_type": "raw",
   "metadata": {},
   "source": [
    "Après avoir réussi le premier exercice, \n",
    "j'espère que le deuxième sera aussi bon !"
   ]
  },
  {
   "cell_type": "code",
   "execution_count": null,
   "metadata": {
    "collapsed": true
   },
   "outputs": [],
   "source": []
  },
  {
   "cell_type": "markdown",
   "metadata": {},
   "source": [
    "# Chapitre 2"
   ]
  },
  {
   "cell_type": "markdown",
   "metadata": {},
   "source": [
    "## Exercice 3"
   ]
  },
  {
   "cell_type": "markdown",
   "metadata": {},
   "source": [
    "Ecrire un programme qui affiche 101 fois la phrase : \" Ceci est un dalmatien.\""
   ]
  },
  {
   "cell_type": "code",
   "execution_count": null,
   "metadata": {
    "collapsed": true
   },
   "outputs": [],
   "source": []
  },
  {
   "cell_type": "markdown",
   "metadata": {},
   "source": [
    "## Exercice 4"
   ]
  },
  {
   "cell_type": "markdown",
   "metadata": {},
   "source": [
    "Ecrire un programme qui affiche \"SNT !\" 30 fois sur la même ligne séparés par un espace.\n",
    "Par exemple si on le demande 3 fois au lieu de 30 il doit afficher sur une seule ligne : SNT ! SNT  ! SNT !\n",
    "Bien sûr votre programme devra utiliser une boucle pour ne pas écrire vous même 30 fois SNT ! \n"
   ]
  },
  {
   "cell_type": "code",
   "execution_count": null,
   "metadata": {
    "collapsed": true
   },
   "outputs": [],
   "source": []
  },
  {
   "cell_type": "markdown",
   "metadata": {},
   "source": [
    "## Exercice 5"
   ]
  },
  {
   "cell_type": "markdown",
   "metadata": {},
   "source": [
    "Un damier de taille 4*4 peut se présenter sous la forme suivante : "
   ]
  },
  {
   "cell_type": "raw",
   "metadata": {},
   "source": [
    "ABAB \n",
    "BABA\n",
    "ABAB\n",
    "BABA"
   ]
  },
  {
   "cell_type": "markdown",
   "metadata": {},
   "source": [
    "Ecrire un programme qui affiche un damier de taille 20*20. Assurez-vous bien que votre damier contient en haut à gauche la lettre A."
   ]
  },
  {
   "cell_type": "code",
   "execution_count": null,
   "metadata": {
    "collapsed": true
   },
   "outputs": [],
   "source": []
  },
  {
   "cell_type": "markdown",
   "metadata": {},
   "source": [
    "# Chapitre 3"
   ]
  },
  {
   "cell_type": "markdown",
   "metadata": {},
   "source": [
    "## Exercice 6"
   ]
  },
  {
   "cell_type": "markdown",
   "metadata": {},
   "source": [
    "Un élève a eu cinq note sur 20 ce trimestre en mathématique : 12/20 ; 15/20 ; 8/20 ; 9/20 ; 11/20.\n",
    "Ecrire un programme qui affiche sa moyenne du trimestre.\n",
    "Vous n'avez pas besoin de calculatrice, les calculs sont dans votre programme."
   ]
  },
  {
   "cell_type": "code",
   "execution_count": null,
   "metadata": {
    "collapsed": true
   },
   "outputs": [],
   "source": []
  },
  {
   "cell_type": "markdown",
   "metadata": {},
   "source": [
    "## Exercice 7"
   ]
  },
  {
   "cell_type": "markdown",
   "metadata": {},
   "source": [
    "La distance entre une ville A et une ville B est de 4 Km, la distance de la ville B à une ville C est de 7 Km et la distance de la ville C à la ville D est de 11 Km. \n",
    "Une course se déroule sur 4 jours : Elle consiste à se rendre de la ville A à la ville B puis à la ville C et enfin à la ville D le premier jour et d'y dormir. Le deuxième jour il sagit de rentrer à la ville A par le chemin retour, le troisième jour de retourner à la ville D et enfin le quatrième jour de rentrer à la ville A.\n",
    "Votre programme doit afficher sur la même ligne 4 valeurs séparées d'un espace : La première indique le nombre de Km parcourus le premier jour, la deuxième le nombre total de Km parcourus à la fin du deuxième jour, la troisième le nombre total de Km parcourus à la fin du troisième jour et la quatrième le nombre total parcourus à la fin du quatrième jour.\n",
    "Vous utiliserez une variable égale à la distance parcourue en un jour et vous utiliserez cette variable pour calculer  les quatres distances totales."
   ]
  },
  {
   "cell_type": "code",
   "execution_count": null,
   "metadata": {
    "collapsed": true
   },
   "outputs": [],
   "source": []
  },
  {
   "cell_type": "markdown",
   "metadata": {},
   "source": [
    "## Exercice 8"
   ]
  },
  {
   "cell_type": "markdown",
   "metadata": {},
   "source": [
    "Votre programme doit afficher les nombres entiers de 1 à 50, un par ligne et afficher pour terminer : C'est fini !\n",
    "Par exemple s'il ne devait compter que jusque 4 il afficherait : "
   ]
  },
  {
   "cell_type": "raw",
   "metadata": {},
   "source": [
    "1\n",
    "2\n",
    "3\n",
    "4\n",
    "C'est fini !"
   ]
  },
  {
   "cell_type": "code",
   "execution_count": null,
   "metadata": {
    "collapsed": true
   },
   "outputs": [],
   "source": []
  },
  {
   "cell_type": "markdown",
   "metadata": {},
   "source": [
    "## Exercice 9"
   ]
  },
  {
   "cell_type": "markdown",
   "metadata": {},
   "source": [
    "Votre programme doit afficher la somme des nombres entiers de 1 à 50.\n",
    "Vous utiliserez une boucle afin d'effectuer les calculs.\n",
    "Par exemple si on demandait les entiers de 1 à 3 il afficherait 6 car 1+2+3 = 6."
   ]
  },
  {
   "cell_type": "code",
   "execution_count": null,
   "metadata": {
    "collapsed": true
   },
   "outputs": [],
   "source": []
  },
  {
   "cell_type": "markdown",
   "metadata": {},
   "source": [
    "# Chapitre 4"
   ]
  },
  {
   "cell_type": "markdown",
   "metadata": {},
   "source": [
    "## Exercice 10"
   ]
  },
  {
   "cell_type": "markdown",
   "metadata": {},
   "source": [
    "Votre programme demande à l'utilisateur d'entrer un nombre entier et affiche autant de fois que le nombre entré l'indique la phrase : Ce test est presque fini !\n",
    "Par exemple si l'utilisateur entre 3 votre programme affiche : "
   ]
  },
  {
   "cell_type": "raw",
   "metadata": {},
   "source": [
    "Ce test est presque fini !\n",
    "Ce test est presque fini !\n",
    "Ce test est presque fini !"
   ]
  },
  {
   "cell_type": "code",
   "execution_count": null,
   "metadata": {
    "collapsed": true
   },
   "outputs": [],
   "source": []
  },
  {
   "cell_type": "markdown",
   "metadata": {},
   "source": [
    "## Exercice 11"
   ]
  },
  {
   "cell_type": "markdown",
   "metadata": {},
   "source": [
    "Votre programme demande à l'utilisateur d'entrer un nombre entier correspondant à un temps en minute puis affiche le nombre de secondes correspondantes.\n",
    "Par exemple si l'utilisateur entre 4, le programme affiche 240 car il y a 240 secondes dans 4 minutes."
   ]
  },
  {
   "cell_type": "code",
   "execution_count": null,
   "metadata": {
    "collapsed": true
   },
   "outputs": [],
   "source": []
  }
 ],
 "metadata": {
  "kernelspec": {
   "display_name": "Python 3",
   "language": "python",
   "name": "python3"
  },
  "language_info": {
   "codemirror_mode": {
    "name": "ipython",
    "version": 3
   },
   "file_extension": ".py",
   "mimetype": "text/x-python",
   "name": "python",
   "nbconvert_exporter": "python",
   "pygments_lexer": "ipython3",
   "version": "3.6.3"
  }
 },
 "nbformat": 4,
 "nbformat_minor": 2
}
